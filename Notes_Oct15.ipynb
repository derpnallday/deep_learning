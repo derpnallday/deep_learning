{
 "cells": [
  {
   "cell_type": "markdown",
   "metadata": {},
   "source": [
    "# Recurrent neural networks"
   ]
  },
  {
   "cell_type": "markdown",
   "metadata": {},
   "source": [
    "THE neural network architecture to use for sequential data (like time)"
   ]
  },
  {
   "cell_type": "markdown",
   "metadata": {},
   "source": [
    "The problem with all feed forward neural networks\n",
    "- Input and output must be of hard assigned dimensions\n",
    "- the network makes a fixed number of computations\n",
    "- if input is sequence-like (video, sound, etc.) the network is ignorant to the order of samples\n",
    "\n",
    "The solution is to feed output back into the next iteration \n",
    "\n",
    "**fundemental idea**\n",
    "$$h_t = f_W(h_{t-1},x_t)$$\n",
    "\n",
    "Popular recurrent unit is Log Short Term Memory (LSTM)\n",
    "<a href=\"https://i.stack.imgur.com/DHi92.png\"></a>"
   ]
  },
  {
   "cell_type": "code",
   "execution_count": null,
   "metadata": {},
   "outputs": [],
   "source": []
  }
 ],
 "metadata": {
  "kernelspec": {
   "display_name": "Python 3",
   "language": "python",
   "name": "python3"
  },
  "language_info": {
   "codemirror_mode": {
    "name": "ipython",
    "version": 3
   },
   "file_extension": ".py",
   "mimetype": "text/x-python",
   "name": "python",
   "nbconvert_exporter": "python",
   "pygments_lexer": "ipython3",
   "version": "3.7.4"
  }
 },
 "nbformat": 4,
 "nbformat_minor": 2
}
