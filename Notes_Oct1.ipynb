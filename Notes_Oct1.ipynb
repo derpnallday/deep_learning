{
 "cells": [
  {
   "cell_type": "markdown",
   "metadata": {},
   "source": [
    "# Convolutional neural networks\n",
    "The architecture for image data"
   ]
  },
  {
   "cell_type": "markdown",
   "metadata": {},
   "source": [
    "Problem with vanilla neural networks\n",
    "- single operation on whole input\n",
    "- each neuron reacts to specific inputs\n",
    "- Bad for images: objects move around\n",
    "- no attention to spatial adjacency\n",
    "\n",
    "**Solution:** \"slide\" the weight matrix over the input\n",
    "- 1 weight adjusted down to next layer. The result of taking the dot product between the filter and one hcunk of the image\n",
    "- weight adjusts on each connection to next layer\n",
    "- convolution by n filter produces new activation map of depth n\n",
    "- these operations can be stacked\n",
    "- if activation map needs to be a certain dimension and it is no possible with the given filter size, padding can be added to input (apply 0s to edges)"
   ]
  },
  {
   "cell_type": "markdown",
   "metadata": {},
   "source": [
    "**Given:** \n",
    "\n",
    "128 x 128 x 3 input\n",
    "\n",
    "ten 5 x 5 x 3 filters\n",
    "\n",
    "Padding: 2\n",
    "\n",
    "Stride: 1\n",
    "\n",
    "\n",
    "Q1: what are are the output dimensions\n",
    "\n",
    "$$W= \\frac{128+(2*2)-5}{1 \\text{ (the stride)}}+1 = 128$$\n",
    "\n",
    "\n",
    "Q2: what is the number of parameters?\n",
    "\n",
    "$$5*5*3*10 + 10 \\text{ (bias for each filter) } = 760$$\n",
    "\n",
    "Q3: What is F=N+2P\n",
    "\n",
    "Its just a VNN.\n",
    "\n"
   ]
  },
  {
   "cell_type": "markdown",
   "metadata": {},
   "source": [
    "**Pooling**\n",
    "- Method for downsampling\n",
    "- reduces number of parameters and computations\n",
    "- can remove redundant information\n",
    "- lowers width and height of volume by an integer factors\n",
    "- preserved depth"
   ]
  },
  {
   "cell_type": "code",
   "execution_count": null,
   "metadata": {},
   "outputs": [],
   "source": []
  }
 ],
 "metadata": {
  "kernelspec": {
   "display_name": "Python 3",
   "language": "python",
   "name": "python3"
  },
  "language_info": {
   "codemirror_mode": {
    "name": "ipython",
    "version": 3
   },
   "file_extension": ".py",
   "mimetype": "text/x-python",
   "name": "python",
   "nbconvert_exporter": "python",
   "pygments_lexer": "ipython3",
   "version": "3.7.4"
  }
 },
 "nbformat": 4,
 "nbformat_minor": 2
}
